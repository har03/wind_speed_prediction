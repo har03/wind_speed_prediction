{
 "cells": [
  {
   "cell_type": "code",
   "execution_count": 1,
   "id": "77923213",
   "metadata": {},
   "outputs": [],
   "source": [
    "import pandas as pd\n",
    "import seaborn as sns #visualisation\n",
    "import matplotlib.pyplot as plt #visualisation \n",
    "sns.set(color_codes=True)"
   ]
  },
  {
   "cell_type": "code",
   "execution_count": 2,
   "id": "934d8887",
   "metadata": {},
   "outputs": [],
   "source": [
    "dataset  = pd.read_csv('wind_dataset.csv',header = 0)"
   ]
  },
  {
   "cell_type": "code",
   "execution_count": 3,
   "id": "b69d3fbe",
   "metadata": {},
   "outputs": [
    {
     "data": {
      "text/html": [
       "<div>\n",
       "<style scoped>\n",
       "    .dataframe tbody tr th:only-of-type {\n",
       "        vertical-align: middle;\n",
       "    }\n",
       "\n",
       "    .dataframe tbody tr th {\n",
       "        vertical-align: top;\n",
       "    }\n",
       "\n",
       "    .dataframe thead th {\n",
       "        text-align: right;\n",
       "    }\n",
       "</style>\n",
       "<table border=\"1\" class=\"dataframe\">\n",
       "  <thead>\n",
       "    <tr style=\"text-align: right;\">\n",
       "      <th></th>\n",
       "      <th>DATE</th>\n",
       "      <th>WIND</th>\n",
       "      <th>IND</th>\n",
       "      <th>RAIN</th>\n",
       "      <th>IND.1</th>\n",
       "      <th>T.MAX</th>\n",
       "      <th>IND.2</th>\n",
       "      <th>T.MIN</th>\n",
       "      <th>T.MIN.G</th>\n",
       "    </tr>\n",
       "  </thead>\n",
       "  <tbody>\n",
       "    <tr>\n",
       "      <th>0</th>\n",
       "      <td>1961-01-01</td>\n",
       "      <td>13.67</td>\n",
       "      <td>0</td>\n",
       "      <td>0.2</td>\n",
       "      <td>0.0</td>\n",
       "      <td>9.5</td>\n",
       "      <td>0.0</td>\n",
       "      <td>3.7</td>\n",
       "      <td>-1.0</td>\n",
       "    </tr>\n",
       "    <tr>\n",
       "      <th>1</th>\n",
       "      <td>1961-01-02</td>\n",
       "      <td>11.50</td>\n",
       "      <td>0</td>\n",
       "      <td>5.1</td>\n",
       "      <td>0.0</td>\n",
       "      <td>7.2</td>\n",
       "      <td>0.0</td>\n",
       "      <td>4.2</td>\n",
       "      <td>1.1</td>\n",
       "    </tr>\n",
       "    <tr>\n",
       "      <th>2</th>\n",
       "      <td>1961-01-03</td>\n",
       "      <td>11.25</td>\n",
       "      <td>0</td>\n",
       "      <td>0.4</td>\n",
       "      <td>0.0</td>\n",
       "      <td>5.5</td>\n",
       "      <td>0.0</td>\n",
       "      <td>0.5</td>\n",
       "      <td>-0.5</td>\n",
       "    </tr>\n",
       "    <tr>\n",
       "      <th>3</th>\n",
       "      <td>1961-01-04</td>\n",
       "      <td>8.63</td>\n",
       "      <td>0</td>\n",
       "      <td>0.2</td>\n",
       "      <td>0.0</td>\n",
       "      <td>5.6</td>\n",
       "      <td>0.0</td>\n",
       "      <td>0.4</td>\n",
       "      <td>-3.2</td>\n",
       "    </tr>\n",
       "    <tr>\n",
       "      <th>4</th>\n",
       "      <td>1961-01-05</td>\n",
       "      <td>11.92</td>\n",
       "      <td>0</td>\n",
       "      <td>10.4</td>\n",
       "      <td>0.0</td>\n",
       "      <td>7.2</td>\n",
       "      <td>1.0</td>\n",
       "      <td>-1.5</td>\n",
       "      <td>-7.5</td>\n",
       "    </tr>\n",
       "  </tbody>\n",
       "</table>\n",
       "</div>"
      ],
      "text/plain": [
       "         DATE   WIND  IND  RAIN  IND.1  T.MAX  IND.2  T.MIN  T.MIN.G\n",
       "0  1961-01-01  13.67    0   0.2    0.0    9.5    0.0    3.7     -1.0\n",
       "1  1961-01-02  11.50    0   5.1    0.0    7.2    0.0    4.2      1.1\n",
       "2  1961-01-03  11.25    0   0.4    0.0    5.5    0.0    0.5     -0.5\n",
       "3  1961-01-04   8.63    0   0.2    0.0    5.6    0.0    0.4     -3.2\n",
       "4  1961-01-05  11.92    0  10.4    0.0    7.2    1.0   -1.5     -7.5"
      ]
     },
     "execution_count": 3,
     "metadata": {},
     "output_type": "execute_result"
    }
   ],
   "source": [
    "dataset.head()"
   ]
  },
  {
   "cell_type": "code",
   "execution_count": 4,
   "id": "1f961d55",
   "metadata": {},
   "outputs": [
    {
     "data": {
      "text/plain": [
       "(6574, 9)"
      ]
     },
     "execution_count": 4,
     "metadata": {},
     "output_type": "execute_result"
    }
   ],
   "source": [
    "dataset.shape"
   ]
  },
  {
   "cell_type": "code",
   "execution_count": 5,
   "id": "d3a2f0a0",
   "metadata": {},
   "outputs": [
    {
     "name": "stdout",
     "output_type": "stream",
     "text": [
      "<class 'pandas.core.frame.DataFrame'>\n",
      "RangeIndex: 6574 entries, 0 to 6573\n",
      "Data columns (total 9 columns):\n",
      " #   Column   Non-Null Count  Dtype  \n",
      "---  ------   --------------  -----  \n",
      " 0   DATE     6574 non-null   object \n",
      " 1   WIND     6574 non-null   float64\n",
      " 2   IND      6574 non-null   int64  \n",
      " 3   RAIN     6574 non-null   float64\n",
      " 4   IND.1    6513 non-null   float64\n",
      " 5   T.MAX    5953 non-null   float64\n",
      " 6   IND.2    6513 non-null   float64\n",
      " 7   T.MIN    5900 non-null   float64\n",
      " 8   T.MIN.G  6214 non-null   float64\n",
      "dtypes: float64(7), int64(1), object(1)\n",
      "memory usage: 462.4+ KB\n"
     ]
    }
   ],
   "source": [
    "dataset.info()"
   ]
  },
  {
   "cell_type": "code",
   "execution_count": 6,
   "id": "8a9d6de2",
   "metadata": {},
   "outputs": [
    {
     "data": {
      "text/html": [
       "<div>\n",
       "<style scoped>\n",
       "    .dataframe tbody tr th:only-of-type {\n",
       "        vertical-align: middle;\n",
       "    }\n",
       "\n",
       "    .dataframe tbody tr th {\n",
       "        vertical-align: top;\n",
       "    }\n",
       "\n",
       "    .dataframe thead th {\n",
       "        text-align: right;\n",
       "    }\n",
       "</style>\n",
       "<table border=\"1\" class=\"dataframe\">\n",
       "  <thead>\n",
       "    <tr style=\"text-align: right;\">\n",
       "      <th></th>\n",
       "      <th>WIND</th>\n",
       "      <th>IND</th>\n",
       "      <th>RAIN</th>\n",
       "      <th>IND.1</th>\n",
       "      <th>T.MAX</th>\n",
       "      <th>IND.2</th>\n",
       "      <th>T.MIN</th>\n",
       "      <th>T.MIN.G</th>\n",
       "    </tr>\n",
       "  </thead>\n",
       "  <tbody>\n",
       "    <tr>\n",
       "      <th>count</th>\n",
       "      <td>6574.000000</td>\n",
       "      <td>6574.000000</td>\n",
       "      <td>6574.000000</td>\n",
       "      <td>6513.000000</td>\n",
       "      <td>5953.000000</td>\n",
       "      <td>6513.000000</td>\n",
       "      <td>5900.000000</td>\n",
       "      <td>6214.000000</td>\n",
       "    </tr>\n",
       "    <tr>\n",
       "      <th>mean</th>\n",
       "      <td>9.796834</td>\n",
       "      <td>0.391542</td>\n",
       "      <td>1.885169</td>\n",
       "      <td>0.356364</td>\n",
       "      <td>13.339123</td>\n",
       "      <td>0.464456</td>\n",
       "      <td>6.411678</td>\n",
       "      <td>2.736547</td>\n",
       "    </tr>\n",
       "    <tr>\n",
       "      <th>std</th>\n",
       "      <td>4.977272</td>\n",
       "      <td>1.179092</td>\n",
       "      <td>4.030529</td>\n",
       "      <td>1.128552</td>\n",
       "      <td>4.890546</td>\n",
       "      <td>1.177571</td>\n",
       "      <td>4.637243</td>\n",
       "      <td>5.569175</td>\n",
       "    </tr>\n",
       "    <tr>\n",
       "      <th>min</th>\n",
       "      <td>0.000000</td>\n",
       "      <td>0.000000</td>\n",
       "      <td>0.000000</td>\n",
       "      <td>0.000000</td>\n",
       "      <td>-0.100000</td>\n",
       "      <td>0.000000</td>\n",
       "      <td>-11.500000</td>\n",
       "      <td>-14.400000</td>\n",
       "    </tr>\n",
       "    <tr>\n",
       "      <th>25%</th>\n",
       "      <td>6.000000</td>\n",
       "      <td>0.000000</td>\n",
       "      <td>0.000000</td>\n",
       "      <td>0.000000</td>\n",
       "      <td>9.600000</td>\n",
       "      <td>0.000000</td>\n",
       "      <td>3.000000</td>\n",
       "      <td>-1.000000</td>\n",
       "    </tr>\n",
       "    <tr>\n",
       "      <th>50%</th>\n",
       "      <td>9.210000</td>\n",
       "      <td>0.000000</td>\n",
       "      <td>0.200000</td>\n",
       "      <td>0.000000</td>\n",
       "      <td>13.300000</td>\n",
       "      <td>0.000000</td>\n",
       "      <td>6.500000</td>\n",
       "      <td>3.000000</td>\n",
       "    </tr>\n",
       "    <tr>\n",
       "      <th>75%</th>\n",
       "      <td>12.960000</td>\n",
       "      <td>0.000000</td>\n",
       "      <td>2.000000</td>\n",
       "      <td>0.000000</td>\n",
       "      <td>17.200000</td>\n",
       "      <td>0.000000</td>\n",
       "      <td>10.000000</td>\n",
       "      <td>7.000000</td>\n",
       "    </tr>\n",
       "    <tr>\n",
       "      <th>max</th>\n",
       "      <td>30.370000</td>\n",
       "      <td>4.000000</td>\n",
       "      <td>67.000000</td>\n",
       "      <td>4.000000</td>\n",
       "      <td>26.800000</td>\n",
       "      <td>4.000000</td>\n",
       "      <td>18.000000</td>\n",
       "      <td>15.800000</td>\n",
       "    </tr>\n",
       "  </tbody>\n",
       "</table>\n",
       "</div>"
      ],
      "text/plain": [
       "              WIND          IND         RAIN        IND.1        T.MAX  \\\n",
       "count  6574.000000  6574.000000  6574.000000  6513.000000  5953.000000   \n",
       "mean      9.796834     0.391542     1.885169     0.356364    13.339123   \n",
       "std       4.977272     1.179092     4.030529     1.128552     4.890546   \n",
       "min       0.000000     0.000000     0.000000     0.000000    -0.100000   \n",
       "25%       6.000000     0.000000     0.000000     0.000000     9.600000   \n",
       "50%       9.210000     0.000000     0.200000     0.000000    13.300000   \n",
       "75%      12.960000     0.000000     2.000000     0.000000    17.200000   \n",
       "max      30.370000     4.000000    67.000000     4.000000    26.800000   \n",
       "\n",
       "             IND.2        T.MIN      T.MIN.G  \n",
       "count  6513.000000  5900.000000  6214.000000  \n",
       "mean      0.464456     6.411678     2.736547  \n",
       "std       1.177571     4.637243     5.569175  \n",
       "min       0.000000   -11.500000   -14.400000  \n",
       "25%       0.000000     3.000000    -1.000000  \n",
       "50%       0.000000     6.500000     3.000000  \n",
       "75%       0.000000    10.000000     7.000000  \n",
       "max       4.000000    18.000000    15.800000  "
      ]
     },
     "execution_count": 6,
     "metadata": {},
     "output_type": "execute_result"
    }
   ],
   "source": [
    "dataset.describe()"
   ]
  },
  {
   "cell_type": "code",
   "execution_count": 10,
   "id": "94b1fb36",
   "metadata": {},
   "outputs": [
    {
     "data": {
      "text/plain": [
       "False"
      ]
     },
     "execution_count": 10,
     "metadata": {},
     "output_type": "execute_result"
    }
   ],
   "source": [
    " dataset['IND'].is_unique"
   ]
  },
  {
   "cell_type": "code",
   "execution_count": 11,
   "id": "30b40f36",
   "metadata": {},
   "outputs": [
    {
     "data": {
      "text/plain": [
       "array([0, 1, 4], dtype=int64)"
      ]
     },
     "execution_count": 11,
     "metadata": {},
     "output_type": "execute_result"
    }
   ],
   "source": [
    "dataset.IND.unique()"
   ]
  },
  {
   "cell_type": "code",
   "execution_count": 12,
   "id": "18fb2a7a",
   "metadata": {},
   "outputs": [
    {
     "data": {
      "text/plain": [
       "0    5893\n",
       "4     631\n",
       "1      50\n",
       "Name: IND, dtype: int64"
      ]
     },
     "execution_count": 12,
     "metadata": {},
     "output_type": "execute_result"
    }
   ],
   "source": [
    "dataset.IND.value_counts() "
   ]
  },
  {
   "cell_type": "code",
   "execution_count": 13,
   "id": "d8f4325a",
   "metadata": {},
   "outputs": [
    {
     "data": {
      "text/plain": [
       "DATE        object\n",
       "WIND       float64\n",
       "IND          int64\n",
       "RAIN       float64\n",
       "IND.1      float64\n",
       "T.MAX      float64\n",
       "IND.2      float64\n",
       "T.MIN      float64\n",
       "T.MIN.G    float64\n",
       "dtype: object"
      ]
     },
     "execution_count": 13,
     "metadata": {},
     "output_type": "execute_result"
    }
   ],
   "source": [
    "dataset.dtypes"
   ]
  },
  {
   "cell_type": "code",
   "execution_count": 14,
   "id": "33e457fb",
   "metadata": {},
   "outputs": [
    {
     "name": "stdout",
     "output_type": "stream",
     "text": [
      "number of duplicate rows:(0, 9)\n"
     ]
    }
   ],
   "source": [
    "duplicate_rows_df = dataset[dataset.duplicated()]\n",
    "print(f\"number of duplicate rows:{ duplicate_rows_df.shape}\")"
   ]
  },
  {
   "cell_type": "code",
   "execution_count": 15,
   "id": "77992219",
   "metadata": {},
   "outputs": [
    {
     "data": {
      "text/html": [
       "<div>\n",
       "<style scoped>\n",
       "    .dataframe tbody tr th:only-of-type {\n",
       "        vertical-align: middle;\n",
       "    }\n",
       "\n",
       "    .dataframe tbody tr th {\n",
       "        vertical-align: top;\n",
       "    }\n",
       "\n",
       "    .dataframe thead th {\n",
       "        text-align: right;\n",
       "    }\n",
       "</style>\n",
       "<table border=\"1\" class=\"dataframe\">\n",
       "  <thead>\n",
       "    <tr style=\"text-align: right;\">\n",
       "      <th></th>\n",
       "      <th>DATE</th>\n",
       "      <th>WIND</th>\n",
       "      <th>IND</th>\n",
       "      <th>RAIN</th>\n",
       "      <th>IND.1</th>\n",
       "      <th>T.MAX</th>\n",
       "      <th>IND.2</th>\n",
       "      <th>T.MIN</th>\n",
       "      <th>T.MIN.G</th>\n",
       "    </tr>\n",
       "  </thead>\n",
       "  <tbody>\n",
       "    <tr>\n",
       "      <th>0</th>\n",
       "      <td>1961-01-01</td>\n",
       "      <td>13.67</td>\n",
       "      <td>0</td>\n",
       "      <td>0.2</td>\n",
       "      <td>0.0</td>\n",
       "      <td>9.5</td>\n",
       "      <td>0.0</td>\n",
       "      <td>3.7</td>\n",
       "      <td>-1.0</td>\n",
       "    </tr>\n",
       "    <tr>\n",
       "      <th>1</th>\n",
       "      <td>1961-01-02</td>\n",
       "      <td>11.50</td>\n",
       "      <td>0</td>\n",
       "      <td>5.1</td>\n",
       "      <td>0.0</td>\n",
       "      <td>7.2</td>\n",
       "      <td>0.0</td>\n",
       "      <td>4.2</td>\n",
       "      <td>1.1</td>\n",
       "    </tr>\n",
       "    <tr>\n",
       "      <th>2</th>\n",
       "      <td>1961-01-03</td>\n",
       "      <td>11.25</td>\n",
       "      <td>0</td>\n",
       "      <td>0.4</td>\n",
       "      <td>0.0</td>\n",
       "      <td>5.5</td>\n",
       "      <td>0.0</td>\n",
       "      <td>0.5</td>\n",
       "      <td>-0.5</td>\n",
       "    </tr>\n",
       "    <tr>\n",
       "      <th>3</th>\n",
       "      <td>1961-01-04</td>\n",
       "      <td>8.63</td>\n",
       "      <td>0</td>\n",
       "      <td>0.2</td>\n",
       "      <td>0.0</td>\n",
       "      <td>5.6</td>\n",
       "      <td>0.0</td>\n",
       "      <td>0.4</td>\n",
       "      <td>-3.2</td>\n",
       "    </tr>\n",
       "    <tr>\n",
       "      <th>4</th>\n",
       "      <td>1961-01-05</td>\n",
       "      <td>11.92</td>\n",
       "      <td>0</td>\n",
       "      <td>10.4</td>\n",
       "      <td>0.0</td>\n",
       "      <td>7.2</td>\n",
       "      <td>1.0</td>\n",
       "      <td>-1.5</td>\n",
       "      <td>-7.5</td>\n",
       "    </tr>\n",
       "  </tbody>\n",
       "</table>\n",
       "</div>"
      ],
      "text/plain": [
       "         DATE   WIND  IND  RAIN  IND.1  T.MAX  IND.2  T.MIN  T.MIN.G\n",
       "0  1961-01-01  13.67    0   0.2    0.0    9.5    0.0    3.7     -1.0\n",
       "1  1961-01-02  11.50    0   5.1    0.0    7.2    0.0    4.2      1.1\n",
       "2  1961-01-03  11.25    0   0.4    0.0    5.5    0.0    0.5     -0.5\n",
       "3  1961-01-04   8.63    0   0.2    0.0    5.6    0.0    0.4     -3.2\n",
       "4  1961-01-05  11.92    0  10.4    0.0    7.2    1.0   -1.5     -7.5"
      ]
     },
     "execution_count": 15,
     "metadata": {},
     "output_type": "execute_result"
    }
   ],
   "source": [
    "dataset = dataset.drop_duplicates()\n",
    "dataset.head()"
   ]
  },
  {
   "cell_type": "code",
   "execution_count": 16,
   "id": "d0ef501c",
   "metadata": {},
   "outputs": [
    {
     "name": "stdout",
     "output_type": "stream",
     "text": [
      "DATE         0\n",
      "WIND         0\n",
      "IND          0\n",
      "RAIN         0\n",
      "IND.1       61\n",
      "T.MAX      621\n",
      "IND.2       61\n",
      "T.MIN      674\n",
      "T.MIN.G    360\n",
      "dtype: int64\n"
     ]
    }
   ],
   "source": [
    "print(dataset.isnull().sum())"
   ]
  },
  {
   "cell_type": "code",
   "execution_count": null,
   "id": "2b70242d",
   "metadata": {},
   "outputs": [],
   "source": [
    "# Plotting a bar graph\n",
    "dataset.bathrooms.value_counts().plot(kind='bar', figsize=(10,5))\n",
    "plt.title(\"price  by number of  bathrooms\")\n",
    "plt.ylabel(\"price\")\n",
    "plt.xlabel(\"bathrooms\");"
   ]
  }
 ],
 "metadata": {
  "kernelspec": {
   "display_name": "Python 3 (ipykernel)",
   "language": "python",
   "name": "python3"
  },
  "language_info": {
   "codemirror_mode": {
    "name": "ipython",
    "version": 3
   },
   "file_extension": ".py",
   "mimetype": "text/x-python",
   "name": "python",
   "nbconvert_exporter": "python",
   "pygments_lexer": "ipython3",
   "version": "3.8.8"
  }
 },
 "nbformat": 4,
 "nbformat_minor": 5
}
